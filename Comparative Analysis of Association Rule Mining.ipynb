{
 "cells": [
  {
   "cell_type": "code",
   "execution_count": null,
   "id": "8b22162e",
   "metadata": {},
   "outputs": [],
   "source": []
  },
  {
   "cell_type": "code",
   "execution_count": 11,
   "id": "94f25a92",
   "metadata": {},
   "outputs": [],
   "source": [
    "import pandas as pd\n",
    "\n",
    "# Step 1: Load the four datasets\n",
    "groceries_df = pd.read_csv(\"groceries_dataset.csv\")\n",
    "online_retail_df = pd.read_csv(\"online_retail.csv\", encoding='ISO-8859-1')\n",
    "winequality_df = pd.read_csv(\"winequality-red.csv\")\n",
    "order_products_prior_df = pd.read_csv(\"order_products__prior.csv\")"
   ]
  },
  {
   "cell_type": "code",
   "execution_count": 12,
   "id": "1ff8e51f",
   "metadata": {},
   "outputs": [],
   "source": [
    "# Step 2: Modify the item_column and transaction_column for each dataset\n",
    "groceries_item_column = 'itemDescription'  # Replace with actual column name in dataset\n",
    "groceries_transaction_column = 'Member_number'  # Replace with actual column name in dataset\n",
    "\n",
    "online_retail_item_column = 'StockCode'\n",
    "online_retail_transaction_column = 'InvoiceNo'\n",
    "\n",
    "# Winequality-red dataset: Create a new column as transaction ID\n",
    "winequality_df['transaction_id'] = winequality_df.index  # Use index as transaction ID\n",
    "winequality_item_column = 'quality'\n",
    "winequality_transaction_column = 'transaction_id'  # Use the new column as transaction column\n",
    "\n",
    "order_products_prior_item_column = 'product_id'\n",
    "order_products_prior_transaction_column = 'order_id'\n",
    "\n"
   ]
  },
  {
   "cell_type": "code",
   "execution_count": 13,
   "id": "32e0968d",
   "metadata": {},
   "outputs": [],
   "source": [
    "# Step 3: Define the functions for adjusting unique items and transactions\n",
    "def adjust_unique_items(df, item_column, transaction_column, target_unique_items):\n",
    "    unique_items = df[item_column].nunique()\n",
    "    if unique_items > target_unique_items:\n",
    "        item_counts = df[item_column].value_counts().head(target_unique_items).index\n",
    "        df = df[df[item_column].isin(item_counts)]\n",
    "    return df\n",
    "\n",
    "def adjust_transactions(df, transaction_column, target_transactions):\n",
    "    if len(df[transaction_column].unique()) > target_transactions:\n",
    "        sampled_transactions = df[transaction_column].drop_duplicates().sample(target_transactions)\n",
    "        df = df[df[transaction_column].isin(sampled_transactions)]\n",
    "    return df\n",
    "\n",
    "def control_transaction_width(df, item_column, transaction_column, target_width):\n",
    "    transaction_widths = df.groupby(transaction_column)[item_column].count()\n",
    "    for transaction, width in transaction_widths.items():\n",
    "        if width > target_width:\n",
    "            items_to_keep = df[df[transaction_column] == transaction].sample(target_width)\n",
    "            df = df[~((df[transaction_column] == transaction) & (~df.index.isin(items_to_keep.index)))]\n",
    "        elif width < target_width:\n",
    "            items_to_add = df[df[transaction_column] == transaction].sample(target_width - width, replace=True)\n",
    "            df = pd.concat([df, items_to_add])\n",
    "    return df\n",
    "\n"
   ]
  },
  {
   "cell_type": "code",
   "execution_count": 15,
   "id": "8fc7321b",
   "metadata": {},
   "outputs": [
    {
     "ename": "KeyboardInterrupt",
     "evalue": "",
     "output_type": "error",
     "traceback": [
      "\u001b[1;31m---------------------------------------------------------------------------\u001b[0m",
      "\u001b[1;31mKeyboardInterrupt\u001b[0m                         Traceback (most recent call last)",
      "\u001b[1;32m~\\AppData\\Local\\Temp\\ipykernel_16744\\1124254471.py\u001b[0m in \u001b[0;36m<module>\u001b[1;34m\u001b[0m\n\u001b[0;32m     27\u001b[0m \u001b[0monline_retail_df\u001b[0m \u001b[1;33m=\u001b[0m \u001b[0mcontrol_transaction_width\u001b[0m\u001b[1;33m(\u001b[0m\u001b[0monline_retail_df\u001b[0m\u001b[1;33m,\u001b[0m \u001b[0monline_retail_item_column\u001b[0m\u001b[1;33m,\u001b[0m \u001b[0monline_retail_transaction_column\u001b[0m\u001b[1;33m,\u001b[0m \u001b[0mtarget_width\u001b[0m\u001b[1;33m=\u001b[0m\u001b[0maverage_width\u001b[0m\u001b[1;33m)\u001b[0m\u001b[1;33m\u001b[0m\u001b[1;33m\u001b[0m\u001b[0m\n\u001b[0;32m     28\u001b[0m \u001b[0mwinequality_df\u001b[0m \u001b[1;33m=\u001b[0m \u001b[0mcontrol_transaction_width\u001b[0m\u001b[1;33m(\u001b[0m\u001b[0mwinequality_df\u001b[0m\u001b[1;33m,\u001b[0m \u001b[0mwinequality_item_column\u001b[0m\u001b[1;33m,\u001b[0m \u001b[0mwinequality_transaction_column\u001b[0m\u001b[1;33m,\u001b[0m \u001b[0mtarget_width\u001b[0m\u001b[1;33m=\u001b[0m\u001b[0maverage_width\u001b[0m\u001b[1;33m)\u001b[0m\u001b[1;33m\u001b[0m\u001b[1;33m\u001b[0m\u001b[0m\n\u001b[1;32m---> 29\u001b[1;33m \u001b[0morder_products_prior_df\u001b[0m \u001b[1;33m=\u001b[0m \u001b[0mcontrol_transaction_width\u001b[0m\u001b[1;33m(\u001b[0m\u001b[0morder_products_prior_df\u001b[0m\u001b[1;33m,\u001b[0m \u001b[0morder_products_prior_item_column\u001b[0m\u001b[1;33m,\u001b[0m \u001b[0morder_products_prior_transaction_column\u001b[0m\u001b[1;33m,\u001b[0m \u001b[0mtarget_width\u001b[0m\u001b[1;33m=\u001b[0m\u001b[0maverage_width\u001b[0m\u001b[1;33m)\u001b[0m\u001b[1;33m\u001b[0m\u001b[1;33m\u001b[0m\u001b[0m\n\u001b[0m",
      "\u001b[1;32m~\\AppData\\Local\\Temp\\ipykernel_16744\\1787057455.py\u001b[0m in \u001b[0;36mcontrol_transaction_width\u001b[1;34m(df, item_column, transaction_column, target_width)\u001b[0m\n\u001b[0;32m     21\u001b[0m         \u001b[1;32melif\u001b[0m \u001b[0mwidth\u001b[0m \u001b[1;33m<\u001b[0m \u001b[0mtarget_width\u001b[0m\u001b[1;33m:\u001b[0m\u001b[1;33m\u001b[0m\u001b[1;33m\u001b[0m\u001b[0m\n\u001b[0;32m     22\u001b[0m             \u001b[0mitems_to_add\u001b[0m \u001b[1;33m=\u001b[0m \u001b[0mdf\u001b[0m\u001b[1;33m[\u001b[0m\u001b[0mdf\u001b[0m\u001b[1;33m[\u001b[0m\u001b[0mtransaction_column\u001b[0m\u001b[1;33m]\u001b[0m \u001b[1;33m==\u001b[0m \u001b[0mtransaction\u001b[0m\u001b[1;33m]\u001b[0m\u001b[1;33m.\u001b[0m\u001b[0msample\u001b[0m\u001b[1;33m(\u001b[0m\u001b[0mtarget_width\u001b[0m \u001b[1;33m-\u001b[0m \u001b[0mwidth\u001b[0m\u001b[1;33m,\u001b[0m \u001b[0mreplace\u001b[0m\u001b[1;33m=\u001b[0m\u001b[1;32mTrue\u001b[0m\u001b[1;33m)\u001b[0m\u001b[1;33m\u001b[0m\u001b[1;33m\u001b[0m\u001b[0m\n\u001b[1;32m---> 23\u001b[1;33m             \u001b[0mdf\u001b[0m \u001b[1;33m=\u001b[0m \u001b[0mpd\u001b[0m\u001b[1;33m.\u001b[0m\u001b[0mconcat\u001b[0m\u001b[1;33m(\u001b[0m\u001b[1;33m[\u001b[0m\u001b[0mdf\u001b[0m\u001b[1;33m,\u001b[0m \u001b[0mitems_to_add\u001b[0m\u001b[1;33m]\u001b[0m\u001b[1;33m)\u001b[0m\u001b[1;33m\u001b[0m\u001b[1;33m\u001b[0m\u001b[0m\n\u001b[0m\u001b[0;32m     24\u001b[0m     \u001b[1;32mreturn\u001b[0m \u001b[0mdf\u001b[0m\u001b[1;33m\u001b[0m\u001b[1;33m\u001b[0m\u001b[0m\n\u001b[0;32m     25\u001b[0m \u001b[1;33m\u001b[0m\u001b[0m\n",
      "\u001b[1;32m~\\anaconda3\\lib\\site-packages\\pandas\\util\\_decorators.py\u001b[0m in \u001b[0;36mwrapper\u001b[1;34m(*args, **kwargs)\u001b[0m\n\u001b[0;32m    309\u001b[0m                     \u001b[0mstacklevel\u001b[0m\u001b[1;33m=\u001b[0m\u001b[0mstacklevel\u001b[0m\u001b[1;33m,\u001b[0m\u001b[1;33m\u001b[0m\u001b[1;33m\u001b[0m\u001b[0m\n\u001b[0;32m    310\u001b[0m                 )\n\u001b[1;32m--> 311\u001b[1;33m             \u001b[1;32mreturn\u001b[0m \u001b[0mfunc\u001b[0m\u001b[1;33m(\u001b[0m\u001b[1;33m*\u001b[0m\u001b[0margs\u001b[0m\u001b[1;33m,\u001b[0m \u001b[1;33m**\u001b[0m\u001b[0mkwargs\u001b[0m\u001b[1;33m)\u001b[0m\u001b[1;33m\u001b[0m\u001b[1;33m\u001b[0m\u001b[0m\n\u001b[0m\u001b[0;32m    312\u001b[0m \u001b[1;33m\u001b[0m\u001b[0m\n\u001b[0;32m    313\u001b[0m         \u001b[1;32mreturn\u001b[0m \u001b[0mwrapper\u001b[0m\u001b[1;33m\u001b[0m\u001b[1;33m\u001b[0m\u001b[0m\n",
      "\u001b[1;32m~\\anaconda3\\lib\\site-packages\\pandas\\core\\reshape\\concat.py\u001b[0m in \u001b[0;36mconcat\u001b[1;34m(objs, axis, join, ignore_index, keys, levels, names, verify_integrity, sort, copy)\u001b[0m\n\u001b[0;32m    358\u001b[0m     )\n\u001b[0;32m    359\u001b[0m \u001b[1;33m\u001b[0m\u001b[0m\n\u001b[1;32m--> 360\u001b[1;33m     \u001b[1;32mreturn\u001b[0m \u001b[0mop\u001b[0m\u001b[1;33m.\u001b[0m\u001b[0mget_result\u001b[0m\u001b[1;33m(\u001b[0m\u001b[1;33m)\u001b[0m\u001b[1;33m\u001b[0m\u001b[1;33m\u001b[0m\u001b[0m\n\u001b[0m\u001b[0;32m    361\u001b[0m \u001b[1;33m\u001b[0m\u001b[0m\n\u001b[0;32m    362\u001b[0m \u001b[1;33m\u001b[0m\u001b[0m\n",
      "\u001b[1;32m~\\anaconda3\\lib\\site-packages\\pandas\\core\\reshape\\concat.py\u001b[0m in \u001b[0;36mget_result\u001b[1;34m(self)\u001b[0m\n\u001b[0;32m    593\u001b[0m                 \u001b[0mmgrs_indexers\u001b[0m\u001b[1;33m.\u001b[0m\u001b[0mappend\u001b[0m\u001b[1;33m(\u001b[0m\u001b[1;33m(\u001b[0m\u001b[0mobj\u001b[0m\u001b[1;33m.\u001b[0m\u001b[0m_mgr\u001b[0m\u001b[1;33m,\u001b[0m \u001b[0mindexers\u001b[0m\u001b[1;33m)\u001b[0m\u001b[1;33m)\u001b[0m\u001b[1;33m\u001b[0m\u001b[1;33m\u001b[0m\u001b[0m\n\u001b[0;32m    594\u001b[0m \u001b[1;33m\u001b[0m\u001b[0m\n\u001b[1;32m--> 595\u001b[1;33m             new_data = concatenate_managers(\n\u001b[0m\u001b[0;32m    596\u001b[0m                 \u001b[0mmgrs_indexers\u001b[0m\u001b[1;33m,\u001b[0m \u001b[0mself\u001b[0m\u001b[1;33m.\u001b[0m\u001b[0mnew_axes\u001b[0m\u001b[1;33m,\u001b[0m \u001b[0mconcat_axis\u001b[0m\u001b[1;33m=\u001b[0m\u001b[0mself\u001b[0m\u001b[1;33m.\u001b[0m\u001b[0mbm_axis\u001b[0m\u001b[1;33m,\u001b[0m \u001b[0mcopy\u001b[0m\u001b[1;33m=\u001b[0m\u001b[0mself\u001b[0m\u001b[1;33m.\u001b[0m\u001b[0mcopy\u001b[0m\u001b[1;33m\u001b[0m\u001b[1;33m\u001b[0m\u001b[0m\n\u001b[0;32m    597\u001b[0m             )\n",
      "\u001b[1;32m~\\anaconda3\\lib\\site-packages\\pandas\\core\\internals\\concat.py\u001b[0m in \u001b[0;36mconcatenate_managers\u001b[1;34m(mgrs_indexers, axes, concat_axis, copy)\u001b[0m\n\u001b[0;32m    230\u001b[0m                 \u001b[1;31m#  we can use np.concatenate, which is more performant\u001b[0m\u001b[1;33m\u001b[0m\u001b[1;33m\u001b[0m\u001b[0m\n\u001b[0;32m    231\u001b[0m                 \u001b[1;31m#  than concat_compat\u001b[0m\u001b[1;33m\u001b[0m\u001b[1;33m\u001b[0m\u001b[0m\n\u001b[1;32m--> 232\u001b[1;33m                 \u001b[0mvalues\u001b[0m \u001b[1;33m=\u001b[0m \u001b[0mnp\u001b[0m\u001b[1;33m.\u001b[0m\u001b[0mconcatenate\u001b[0m\u001b[1;33m(\u001b[0m\u001b[0mvals\u001b[0m\u001b[1;33m,\u001b[0m \u001b[0maxis\u001b[0m\u001b[1;33m=\u001b[0m\u001b[1;36m1\u001b[0m\u001b[1;33m)\u001b[0m\u001b[1;33m\u001b[0m\u001b[1;33m\u001b[0m\u001b[0m\n\u001b[0m\u001b[0;32m    233\u001b[0m             \u001b[1;32melse\u001b[0m\u001b[1;33m:\u001b[0m\u001b[1;33m\u001b[0m\u001b[1;33m\u001b[0m\u001b[0m\n\u001b[0;32m    234\u001b[0m                 \u001b[1;31m# TODO(EA2D): special-casing not needed with 2D EAs\u001b[0m\u001b[1;33m\u001b[0m\u001b[1;33m\u001b[0m\u001b[0m\n",
      "\u001b[1;31mKeyboardInterrupt\u001b[0m: "
     ]
    }
   ],
   "source": [
    "# Step 4: Determine the target number of unique items based on the minimum dataset\n",
    "unique_counts = {\n",
    "    'groceries': groceries_df[groceries_item_column].nunique(),\n",
    "    'online_retail': online_retail_df[online_retail_item_column].nunique(),\n",
    "    'winequality': winequality_df[winequality_item_column].nunique(),\n",
    "    'order_products': order_products_prior_df[order_products_prior_item_column].nunique()\n",
    "}\n",
    "\n",
    "target_unique_items = min(unique_counts.values())\n",
    "\n",
    "# Adjust unique items for each dataset\n",
    "groceries_df = adjust_unique_items(groceries_df, groceries_item_column, groceries_transaction_column, target_unique_items)\n",
    "online_retail_df = adjust_unique_items(online_retail_df, online_retail_item_column, online_retail_transaction_column, target_unique_items)\n",
    "winequality_df = adjust_unique_items(winequality_df, winequality_item_column, winequality_transaction_column, target_unique_items)\n",
    "order_products_prior_df = adjust_unique_items(order_products_prior_df, order_products_prior_item_column, order_products_prior_transaction_column, target_unique_items)\n",
    "\n",
    "# 计算平均宽度，并取整\n",
    "average_width = int(np.round((\n",
    "    groceries_df.groupby(groceries_transaction_column)[groceries_item_column].count().mean() +\n",
    "    online_retail_df.groupby(online_retail_transaction_column)[online_retail_item_column].count().mean() +\n",
    "    winequality_df.groupby(winequality_transaction_column).size().mean() +\n",
    "    order_products_prior_df.groupby(order_products_prior_transaction_column)[order_products_prior_item_column].count().mean()\n",
    ") / 4))\n",
    "\n",
    "# 控制每个数据集的事务宽度\n",
    "groceries_df = control_transaction_width(groceries_df, groceries_item_column, groceries_transaction_column, target_width=average_width)\n",
    "online_retail_df = control_transaction_width(online_retail_df, online_retail_item_column, online_retail_transaction_column, target_width=average_width)\n",
    "winequality_df = control_transaction_width(winequality_df, winequality_item_column, winequality_transaction_column, target_width=average_width)\n",
    "order_products_prior_df = control_transaction_width(order_products_prior_df, order_products_prior_item_column, order_products_prior_transaction_column, target_width=average_width)\n"
   ]
  },
  {
   "cell_type": "code",
   "execution_count": 18,
   "id": "02fcc7d5",
   "metadata": {},
   "outputs": [
    {
     "name": "stderr",
     "output_type": "stream",
     "text": [
      "Adjusting Unique Items: 100%|██████████| 4/4 [00:00<?, ?it/s]\n"
     ]
    },
    {
     "ename": "KeyboardInterrupt",
     "evalue": "",
     "output_type": "error",
     "traceback": [
      "\u001b[1;31m---------------------------------------------------------------------------\u001b[0m",
      "\u001b[1;31mKeyboardInterrupt\u001b[0m                         Traceback (most recent call last)",
      "\u001b[1;32m~\\AppData\\Local\\Temp\\ipykernel_16744\\1939936329.py\u001b[0m in \u001b[0;36m<module>\u001b[1;34m\u001b[0m\n\u001b[0;32m     30\u001b[0m \u001b[0monline_retail_df\u001b[0m \u001b[1;33m=\u001b[0m \u001b[0mcontrol_transaction_width\u001b[0m\u001b[1;33m(\u001b[0m\u001b[0monline_retail_df\u001b[0m\u001b[1;33m,\u001b[0m \u001b[0monline_retail_item_column\u001b[0m\u001b[1;33m,\u001b[0m \u001b[0monline_retail_transaction_column\u001b[0m\u001b[1;33m,\u001b[0m \u001b[0mtarget_width\u001b[0m\u001b[1;33m=\u001b[0m\u001b[0maverage_width\u001b[0m\u001b[1;33m)\u001b[0m\u001b[1;33m\u001b[0m\u001b[1;33m\u001b[0m\u001b[0m\n\u001b[0;32m     31\u001b[0m \u001b[0mwinequality_df\u001b[0m \u001b[1;33m=\u001b[0m \u001b[0mcontrol_transaction_width\u001b[0m\u001b[1;33m(\u001b[0m\u001b[0mwinequality_df\u001b[0m\u001b[1;33m,\u001b[0m \u001b[0mwinequality_item_column\u001b[0m\u001b[1;33m,\u001b[0m \u001b[0mwinequality_transaction_column\u001b[0m\u001b[1;33m,\u001b[0m \u001b[0mtarget_width\u001b[0m\u001b[1;33m=\u001b[0m\u001b[0maverage_width\u001b[0m\u001b[1;33m)\u001b[0m\u001b[1;33m\u001b[0m\u001b[1;33m\u001b[0m\u001b[0m\n\u001b[1;32m---> 32\u001b[1;33m \u001b[0morder_products_prior_df\u001b[0m \u001b[1;33m=\u001b[0m \u001b[0mcontrol_transaction_width\u001b[0m\u001b[1;33m(\u001b[0m\u001b[0morder_products_prior_df\u001b[0m\u001b[1;33m,\u001b[0m \u001b[0morder_products_prior_item_column\u001b[0m\u001b[1;33m,\u001b[0m \u001b[0morder_products_prior_transaction_column\u001b[0m\u001b[1;33m,\u001b[0m \u001b[0mtarget_width\u001b[0m\u001b[1;33m=\u001b[0m\u001b[0maverage_width\u001b[0m\u001b[1;33m)\u001b[0m\u001b[1;33m\u001b[0m\u001b[1;33m\u001b[0m\u001b[0m\n\u001b[0m",
      "\u001b[1;32m~\\AppData\\Local\\Temp\\ipykernel_16744\\1787057455.py\u001b[0m in \u001b[0;36mcontrol_transaction_width\u001b[1;34m(df, item_column, transaction_column, target_width)\u001b[0m\n\u001b[0;32m     21\u001b[0m         \u001b[1;32melif\u001b[0m \u001b[0mwidth\u001b[0m \u001b[1;33m<\u001b[0m \u001b[0mtarget_width\u001b[0m\u001b[1;33m:\u001b[0m\u001b[1;33m\u001b[0m\u001b[1;33m\u001b[0m\u001b[0m\n\u001b[0;32m     22\u001b[0m             \u001b[0mitems_to_add\u001b[0m \u001b[1;33m=\u001b[0m \u001b[0mdf\u001b[0m\u001b[1;33m[\u001b[0m\u001b[0mdf\u001b[0m\u001b[1;33m[\u001b[0m\u001b[0mtransaction_column\u001b[0m\u001b[1;33m]\u001b[0m \u001b[1;33m==\u001b[0m \u001b[0mtransaction\u001b[0m\u001b[1;33m]\u001b[0m\u001b[1;33m.\u001b[0m\u001b[0msample\u001b[0m\u001b[1;33m(\u001b[0m\u001b[0mtarget_width\u001b[0m \u001b[1;33m-\u001b[0m \u001b[0mwidth\u001b[0m\u001b[1;33m,\u001b[0m \u001b[0mreplace\u001b[0m\u001b[1;33m=\u001b[0m\u001b[1;32mTrue\u001b[0m\u001b[1;33m)\u001b[0m\u001b[1;33m\u001b[0m\u001b[1;33m\u001b[0m\u001b[0m\n\u001b[1;32m---> 23\u001b[1;33m             \u001b[0mdf\u001b[0m \u001b[1;33m=\u001b[0m \u001b[0mpd\u001b[0m\u001b[1;33m.\u001b[0m\u001b[0mconcat\u001b[0m\u001b[1;33m(\u001b[0m\u001b[1;33m[\u001b[0m\u001b[0mdf\u001b[0m\u001b[1;33m,\u001b[0m \u001b[0mitems_to_add\u001b[0m\u001b[1;33m]\u001b[0m\u001b[1;33m)\u001b[0m\u001b[1;33m\u001b[0m\u001b[1;33m\u001b[0m\u001b[0m\n\u001b[0m\u001b[0;32m     24\u001b[0m     \u001b[1;32mreturn\u001b[0m \u001b[0mdf\u001b[0m\u001b[1;33m\u001b[0m\u001b[1;33m\u001b[0m\u001b[0m\n\u001b[0;32m     25\u001b[0m \u001b[1;33m\u001b[0m\u001b[0m\n",
      "\u001b[1;32m~\\anaconda3\\lib\\site-packages\\pandas\\util\\_decorators.py\u001b[0m in \u001b[0;36mwrapper\u001b[1;34m(*args, **kwargs)\u001b[0m\n\u001b[0;32m    309\u001b[0m                     \u001b[0mstacklevel\u001b[0m\u001b[1;33m=\u001b[0m\u001b[0mstacklevel\u001b[0m\u001b[1;33m,\u001b[0m\u001b[1;33m\u001b[0m\u001b[1;33m\u001b[0m\u001b[0m\n\u001b[0;32m    310\u001b[0m                 )\n\u001b[1;32m--> 311\u001b[1;33m             \u001b[1;32mreturn\u001b[0m \u001b[0mfunc\u001b[0m\u001b[1;33m(\u001b[0m\u001b[1;33m*\u001b[0m\u001b[0margs\u001b[0m\u001b[1;33m,\u001b[0m \u001b[1;33m**\u001b[0m\u001b[0mkwargs\u001b[0m\u001b[1;33m)\u001b[0m\u001b[1;33m\u001b[0m\u001b[1;33m\u001b[0m\u001b[0m\n\u001b[0m\u001b[0;32m    312\u001b[0m \u001b[1;33m\u001b[0m\u001b[0m\n\u001b[0;32m    313\u001b[0m         \u001b[1;32mreturn\u001b[0m \u001b[0mwrapper\u001b[0m\u001b[1;33m\u001b[0m\u001b[1;33m\u001b[0m\u001b[0m\n",
      "\u001b[1;32m~\\anaconda3\\lib\\site-packages\\pandas\\core\\reshape\\concat.py\u001b[0m in \u001b[0;36mconcat\u001b[1;34m(objs, axis, join, ignore_index, keys, levels, names, verify_integrity, sort, copy)\u001b[0m\n\u001b[0;32m    358\u001b[0m     )\n\u001b[0;32m    359\u001b[0m \u001b[1;33m\u001b[0m\u001b[0m\n\u001b[1;32m--> 360\u001b[1;33m     \u001b[1;32mreturn\u001b[0m \u001b[0mop\u001b[0m\u001b[1;33m.\u001b[0m\u001b[0mget_result\u001b[0m\u001b[1;33m(\u001b[0m\u001b[1;33m)\u001b[0m\u001b[1;33m\u001b[0m\u001b[1;33m\u001b[0m\u001b[0m\n\u001b[0m\u001b[0;32m    361\u001b[0m \u001b[1;33m\u001b[0m\u001b[0m\n\u001b[0;32m    362\u001b[0m \u001b[1;33m\u001b[0m\u001b[0m\n",
      "\u001b[1;32m~\\anaconda3\\lib\\site-packages\\pandas\\core\\reshape\\concat.py\u001b[0m in \u001b[0;36mget_result\u001b[1;34m(self)\u001b[0m\n\u001b[0;32m    593\u001b[0m                 \u001b[0mmgrs_indexers\u001b[0m\u001b[1;33m.\u001b[0m\u001b[0mappend\u001b[0m\u001b[1;33m(\u001b[0m\u001b[1;33m(\u001b[0m\u001b[0mobj\u001b[0m\u001b[1;33m.\u001b[0m\u001b[0m_mgr\u001b[0m\u001b[1;33m,\u001b[0m \u001b[0mindexers\u001b[0m\u001b[1;33m)\u001b[0m\u001b[1;33m)\u001b[0m\u001b[1;33m\u001b[0m\u001b[1;33m\u001b[0m\u001b[0m\n\u001b[0;32m    594\u001b[0m \u001b[1;33m\u001b[0m\u001b[0m\n\u001b[1;32m--> 595\u001b[1;33m             new_data = concatenate_managers(\n\u001b[0m\u001b[0;32m    596\u001b[0m                 \u001b[0mmgrs_indexers\u001b[0m\u001b[1;33m,\u001b[0m \u001b[0mself\u001b[0m\u001b[1;33m.\u001b[0m\u001b[0mnew_axes\u001b[0m\u001b[1;33m,\u001b[0m \u001b[0mconcat_axis\u001b[0m\u001b[1;33m=\u001b[0m\u001b[0mself\u001b[0m\u001b[1;33m.\u001b[0m\u001b[0mbm_axis\u001b[0m\u001b[1;33m,\u001b[0m \u001b[0mcopy\u001b[0m\u001b[1;33m=\u001b[0m\u001b[0mself\u001b[0m\u001b[1;33m.\u001b[0m\u001b[0mcopy\u001b[0m\u001b[1;33m\u001b[0m\u001b[1;33m\u001b[0m\u001b[0m\n\u001b[0;32m    597\u001b[0m             )\n",
      "\u001b[1;32m~\\anaconda3\\lib\\site-packages\\pandas\\core\\internals\\concat.py\u001b[0m in \u001b[0;36mconcatenate_managers\u001b[1;34m(mgrs_indexers, axes, concat_axis, copy)\u001b[0m\n\u001b[0;32m    230\u001b[0m                 \u001b[1;31m#  we can use np.concatenate, which is more performant\u001b[0m\u001b[1;33m\u001b[0m\u001b[1;33m\u001b[0m\u001b[0m\n\u001b[0;32m    231\u001b[0m                 \u001b[1;31m#  than concat_compat\u001b[0m\u001b[1;33m\u001b[0m\u001b[1;33m\u001b[0m\u001b[0m\n\u001b[1;32m--> 232\u001b[1;33m                 \u001b[0mvalues\u001b[0m \u001b[1;33m=\u001b[0m \u001b[0mnp\u001b[0m\u001b[1;33m.\u001b[0m\u001b[0mconcatenate\u001b[0m\u001b[1;33m(\u001b[0m\u001b[0mvals\u001b[0m\u001b[1;33m,\u001b[0m \u001b[0maxis\u001b[0m\u001b[1;33m=\u001b[0m\u001b[1;36m1\u001b[0m\u001b[1;33m)\u001b[0m\u001b[1;33m\u001b[0m\u001b[1;33m\u001b[0m\u001b[0m\n\u001b[0m\u001b[0;32m    233\u001b[0m             \u001b[1;32melse\u001b[0m\u001b[1;33m:\u001b[0m\u001b[1;33m\u001b[0m\u001b[1;33m\u001b[0m\u001b[0m\n\u001b[0;32m    234\u001b[0m                 \u001b[1;31m# TODO(EA2D): special-casing not needed with 2D EAs\u001b[0m\u001b[1;33m\u001b[0m\u001b[1;33m\u001b[0m\u001b[0m\n",
      "\u001b[1;31mKeyboardInterrupt\u001b[0m: "
     ]
    }
   ],
   "source": [
    "# Step 4: Determine the target number of unique items based on the minimum dataset\n",
    "target_unique_items = min(\n",
    "    groceries_df[groceries_item_column].nunique(),\n",
    "    online_retail_df[online_retail_item_column].nunique(),\n",
    "    winequality_df[winequality_item_column].nunique(),\n",
    "    order_products_prior_df[order_products_prior_item_column].nunique()\n",
    ")\n",
    "\n",
    "# Adjust unique items for each dataset with progress bar\n",
    "for df in tqdm([groceries_df, online_retail_df, winequality_df, order_products_prior_df], desc=\"Adjusting Unique Items\"):\n",
    "    if df is groceries_df:\n",
    "        groceries_df = adjust_unique_items(groceries_df, groceries_item_column, groceries_transaction_column, target_unique_items)\n",
    "    elif df is online_retail_df:\n",
    "        online_retail_df = adjust_unique_items(online_retail_df, online_retail_item_column, online_retail_transaction_column, target_unique_items)\n",
    "    elif df is winequality_df:\n",
    "        winequality_df = adjust_unique_items(winequality_df, winequality_item_column, winequality_transaction_column, target_unique_items)\n",
    "    elif df is order_products_prior_df:\n",
    "        order_products_prior_df = adjust_unique_items(order_products_prior_df, order_products_prior_item_column, order_products_prior_transaction_column, target_unique_items)\n",
    "\n",
    "# 计算平均宽度，并取整\n",
    "average_width = int(np.round((\n",
    "    groceries_df.groupby(groceries_transaction_column)[groceries_item_column].count().mean() +\n",
    "    online_retail_df.groupby(online_retail_transaction_column)[online_retail_item_column].count().mean() +\n",
    "    winequality_df.groupby(winequality_transaction_column).size().mean() +\n",
    "    order_products_prior_df.groupby(order_products_prior_transaction_column)[order_products_prior_item_column].count().mean()\n",
    ") / 4))\n",
    "\n",
    "# 控制每个数据集的事务宽度\n",
    "groceries_df = control_transaction_width(groceries_df, groceries_item_column, groceries_transaction_column, target_width=average_width)\n",
    "online_retail_df = control_transaction_width(online_retail_df, online_retail_item_column, online_retail_transaction_column, target_width=average_width)\n",
    "winequality_df = control_transaction_width(winequality_df, winequality_item_column, winequality_transaction_column, target_width=average_width)\n",
    "order_products_prior_df = control_transaction_width(order_products_prior_df, order_products_prior_item_column, order_products_prior_transaction_column, target_width=average_width)\n"
   ]
  },
  {
   "cell_type": "code",
   "execution_count": null,
   "id": "6e40ef76",
   "metadata": {},
   "outputs": [],
   "source": [
    "# Step 5: Preview the modified datasets\n",
    "print(\"Groceries Dataset:\")\n",
    "print(groceries_df.head())\n",
    "print(\"\\nOnline Retail Dataset:\")\n",
    "print(online_retail_df.head())\n",
    "print(\"\\nWine Quality Dataset:\")\n",
    "print(winequality_df.head())\n",
    "print(\"\\nOrder Products Prior Dataset:\")\n",
    "print(order_products_prior_df.head())"
   ]
  },
  {
   "cell_type": "code",
   "execution_count": null,
   "id": "4f207c52",
   "metadata": {},
   "outputs": [],
   "source": []
  }
 ],
 "metadata": {
  "kernelspec": {
   "display_name": "Python 3 (ipykernel)",
   "language": "python",
   "name": "python3"
  },
  "language_info": {
   "codemirror_mode": {
    "name": "ipython",
    "version": 3
   },
   "file_extension": ".py",
   "mimetype": "text/x-python",
   "name": "python",
   "nbconvert_exporter": "python",
   "pygments_lexer": "ipython3",
   "version": "3.9.13"
  }
 },
 "nbformat": 4,
 "nbformat_minor": 5
}
